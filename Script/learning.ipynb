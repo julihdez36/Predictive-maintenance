{
 "cells": [
  {
   "cell_type": "code",
   "execution_count": 33,
   "metadata": {},
   "outputs": [],
   "source": [
    "import numpy as np\n",
    "import matplotlib.pyplot as plt\n",
    "import seaborn as sns\n",
    "import pandas as pd"
   ]
  },
  {
   "cell_type": "code",
   "execution_count": 23,
   "metadata": {},
   "outputs": [],
   "source": [
    "raw19 = 'https://raw.githubusercontent.com/julihdez36/Predictive-maintenance/refs/heads/main/Data/Dataset_Year_2019.csv'\n",
    "df19 = pd.read_csv(raw19)\n",
    "\n",
    "raw20 = 'https://raw.githubusercontent.com/julihdez36/Predictive-maintenance/refs/heads/main/Data/Dataset_Year_2020.csv'\n",
    "df20 = pd.read_csv(raw20)"
   ]
  },
  {
   "cell_type": "code",
   "execution_count": 24,
   "metadata": {},
   "outputs": [
    {
     "data": {
      "text/plain": [
       "((15873, 17), (15873, 17))"
      ]
     },
     "execution_count": 24,
     "metadata": {},
     "output_type": "execute_result"
    }
   ],
   "source": [
    "new_names = ['location', 'power', 'self_protection', \n",
    " 'avg_earth_ddt', 'max_earth_ddt', \n",
    " 'burning_rate', 'criticality_ceramics', \n",
    " 'removable_connectors', 'client_type', \n",
    " 'num_users', 'eens_kwh', \n",
    " 'installation_type', 'air_network', \n",
    " 'circuit_queue', 'network_km_lt', \n",
    " 'burned_transformers']\n",
    "\n",
    "df19.columns, df20.columns = new_names, new_names\n",
    "\n",
    "df19['year'] = 2019\n",
    "df20['year']= 2020\n",
    "\n",
    "df19.shape, df20.shape"
   ]
  },
  {
   "cell_type": "code",
   "execution_count": 26,
   "metadata": {},
   "outputs": [
    {
     "name": "stdout",
     "output_type": "stream",
     "text": [
      "<class 'pandas.core.frame.DataFrame'>\n",
      "RangeIndex: 15873 entries, 0 to 15872\n",
      "Data columns (total 17 columns):\n",
      " #   Column                Non-Null Count  Dtype  \n",
      "---  ------                --------------  -----  \n",
      " 0   location              15873 non-null  int64  \n",
      " 1   power                 15873 non-null  float64\n",
      " 2   self_protection       15873 non-null  int64  \n",
      " 3   avg_earth_ddt         15873 non-null  float64\n",
      " 4   max_earth_ddt         15873 non-null  float64\n",
      " 5   burning_rate          15873 non-null  float64\n",
      " 6   criticality_ceramics  15873 non-null  int64  \n",
      " 7   removable_connectors  15873 non-null  int64  \n",
      " 8   client_type           15873 non-null  object \n",
      " 9   num_users             15873 non-null  int64  \n",
      " 10  eens_kwh              15873 non-null  float64\n",
      " 11  installation_type     15873 non-null  object \n",
      " 12  air_network           15873 non-null  int64  \n",
      " 13  circuit_queue         15873 non-null  int64  \n",
      " 14  network_km_lt         15873 non-null  object \n",
      " 15  burned_transformers   15873 non-null  int64  \n",
      " 16  year                  15873 non-null  int64  \n",
      "dtypes: float64(5), int64(9), object(3)\n",
      "memory usage: 2.1+ MB\n"
     ]
    }
   ],
   "source": [
    "df19.info()"
   ]
  },
  {
   "cell_type": "code",
   "execution_count": 29,
   "metadata": {},
   "outputs": [
    {
     "data": {
      "text/plain": [
       "(807, 629)"
      ]
     },
     "execution_count": 29,
     "metadata": {},
     "output_type": "execute_result"
    }
   ],
   "source": [
    "df19.burned_transformers.sum(), df20.burned_transformers.sum()"
   ]
  },
  {
   "cell_type": "code",
   "execution_count": 31,
   "metadata": {},
   "outputs": [
    {
     "name": "stdout",
     "output_type": "stream",
     "text": [
      "(31746, 17)\n"
     ]
    },
    {
     "data": {
      "text/html": [
       "<div>\n",
       "<style scoped>\n",
       "    .dataframe tbody tr th:only-of-type {\n",
       "        vertical-align: middle;\n",
       "    }\n",
       "\n",
       "    .dataframe tbody tr th {\n",
       "        vertical-align: top;\n",
       "    }\n",
       "\n",
       "    .dataframe thead th {\n",
       "        text-align: right;\n",
       "    }\n",
       "</style>\n",
       "<table border=\"1\" class=\"dataframe\">\n",
       "  <thead>\n",
       "    <tr style=\"text-align: right;\">\n",
       "      <th></th>\n",
       "      <th>location</th>\n",
       "      <th>power</th>\n",
       "      <th>self_protection</th>\n",
       "      <th>avg_earth_ddt</th>\n",
       "      <th>max_earth_ddt</th>\n",
       "      <th>burning_rate</th>\n",
       "      <th>criticality_ceramics</th>\n",
       "      <th>removable_connectors</th>\n",
       "      <th>client_type</th>\n",
       "      <th>num_users</th>\n",
       "      <th>eens_kwh</th>\n",
       "      <th>installation_type</th>\n",
       "      <th>air_network</th>\n",
       "      <th>circuit_queue</th>\n",
       "      <th>network_km_lt</th>\n",
       "      <th>burned_transformers</th>\n",
       "      <th>year</th>\n",
       "    </tr>\n",
       "  </thead>\n",
       "  <tbody>\n",
       "    <tr>\n",
       "      <th>22964</th>\n",
       "      <td>0</td>\n",
       "      <td>15.0</td>\n",
       "      <td>0</td>\n",
       "      <td>1.268421</td>\n",
       "      <td>3.2</td>\n",
       "      <td>0.0</td>\n",
       "      <td>1</td>\n",
       "      <td>0</td>\n",
       "      <td>STRATUM 1</td>\n",
       "      <td>7</td>\n",
       "      <td>280.8</td>\n",
       "      <td>POLE</td>\n",
       "      <td>1</td>\n",
       "      <td>1</td>\n",
       "      <td>0.91559</td>\n",
       "      <td>0</td>\n",
       "      <td>2020</td>\n",
       "    </tr>\n",
       "    <tr>\n",
       "      <th>864</th>\n",
       "      <td>1</td>\n",
       "      <td>112.5</td>\n",
       "      <td>0</td>\n",
       "      <td>3.155602</td>\n",
       "      <td>6.6</td>\n",
       "      <td>0.0</td>\n",
       "      <td>0</td>\n",
       "      <td>1</td>\n",
       "      <td>STRATUM 3</td>\n",
       "      <td>115</td>\n",
       "      <td>1822.5</td>\n",
       "      <td>MACRO WITHOUT ANTI-FRAUD NET</td>\n",
       "      <td>1</td>\n",
       "      <td>0</td>\n",
       "      <td>0.4104</td>\n",
       "      <td>0</td>\n",
       "      <td>2019</td>\n",
       "    </tr>\n",
       "    <tr>\n",
       "      <th>24798</th>\n",
       "      <td>0</td>\n",
       "      <td>25.0</td>\n",
       "      <td>0</td>\n",
       "      <td>4.148532</td>\n",
       "      <td>8.3</td>\n",
       "      <td>0.0</td>\n",
       "      <td>0</td>\n",
       "      <td>0</td>\n",
       "      <td>STRATUM 1</td>\n",
       "      <td>36</td>\n",
       "      <td>750.6</td>\n",
       "      <td>POLE</td>\n",
       "      <td>1</td>\n",
       "      <td>1</td>\n",
       "      <td>138108.0</td>\n",
       "      <td>0</td>\n",
       "      <td>2020</td>\n",
       "    </tr>\n",
       "  </tbody>\n",
       "</table>\n",
       "</div>"
      ],
      "text/plain": [
       "       location  power  self_protection  avg_earth_ddt  max_earth_ddt  \\\n",
       "22964         0   15.0                0       1.268421            3.2   \n",
       "864           1  112.5                0       3.155602            6.6   \n",
       "24798         0   25.0                0       4.148532            8.3   \n",
       "\n",
       "       burning_rate  criticality_ceramics  removable_connectors client_type  \\\n",
       "22964           0.0                     1                     0   STRATUM 1   \n",
       "864             0.0                     0                     1   STRATUM 3   \n",
       "24798           0.0                     0                     0   STRATUM 1   \n",
       "\n",
       "       num_users  eens_kwh             installation_type  air_network  \\\n",
       "22964          7     280.8                          POLE            1   \n",
       "864          115    1822.5  MACRO WITHOUT ANTI-FRAUD NET            1   \n",
       "24798         36     750.6                          POLE            1   \n",
       "\n",
       "       circuit_queue network_km_lt  burned_transformers  year  \n",
       "22964              1       0.91559                    0  2020  \n",
       "864                0        0.4104                    0  2019  \n",
       "24798              1      138108.0                    0  2020  "
      ]
     },
     "execution_count": 31,
     "metadata": {},
     "output_type": "execute_result"
    }
   ],
   "source": [
    "df = pd.concat([df19,df20], ignore_index= True)\n",
    "print(df.shape)\n",
    "df.sample(3)"
   ]
  },
  {
   "cell_type": "code",
   "execution_count": 45,
   "metadata": {},
   "outputs": [
    {
     "data": {
      "image/png": "[encoded data removed]",
      "text/plain": [
       "<Figure size 600x600 with 1 Axes>"
      ]
     },
     "metadata": {},
     "output_type": "display_data"
    }
   ],
   "source": [
    "# Configurar estilo general de Seaborn\n",
    "sns.set_theme(style=\"whitegrid\")  # Cambia a 'darkgrid', 'white', 'dark', etc., según prefieras.\n",
    "\n",
    "# Crear el gráfico\n",
    "plt.figure(figsize=(6, 6))  # Ajustar el tamaño de la figura\n",
    "ax = sns.countplot(data=df, x='burned_transformers', hue = 'burned_transformers')  # Cambia la paleta según el estilo deseado\n",
    "\n",
    "# Etiquetas en el eje x e y\n",
    "ax.set_xlabel('Transformadores Quemados', fontsize=14, labelpad=10)\n",
    "ax.set_ylabel('Cantidad', fontsize=14, labelpad=10)\n",
    "\n",
    "# Título\n",
    "ax.set_title('Distribución de Transformadores Quemados', fontsize=16, fontweight='bold', pad=20)\n",
    "\n",
    "# Añadir etiquetas de conteo sobre las barras\n",
    "for container in ax.containers:\n",
    "    ax.bar_label(container, fmt='%d', label_type='edge', fontsize=12, padding=3)\n",
    "\n",
    "# Ajustar las etiquetas del eje x si son muy largas\n",
    "plt.xticks(fontsize=12)\n",
    "plt.yticks(fontsize=12)\n",
    "\n",
    "# Ajustar espacio del gráfico para que el título no quede pegado\n",
    "plt.tight_layout()\n",
    "\n",
    "# Mostrar el gráfico\n",
    "plt.show()\n"
   ]
  }
 ],
 "metadata": {
  "kernelspec": {
   "display_name": "Python 3",
   "language": "python",
   "name": "python3"
  },
  "language_info": {
   "codemirror_mode": {
    "name": "ipython",
    "version": 3
   },
   "file_extension": ".py",
   "mimetype": "text/x-python",
   "name": "python",
   "nbconvert_exporter": "python",
   "pygments_lexer": "ipython3",
   "version": "3.12.8"
  }
 },
 "nbformat": 4,
 "nbformat_minor": 2
}
