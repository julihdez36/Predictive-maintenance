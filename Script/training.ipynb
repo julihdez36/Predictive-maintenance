{
 "cells": [
  {
   "cell_type": "markdown",
   "metadata": {},
   "source": [
    "## Prueba BOHB"
   ]
  },
  {
   "cell_type": "code",
   "execution_count": 1,
   "metadata": {},
   "outputs": [],
   "source": [
    "# Creación de datos sintéticos para clasificación binaria\n",
    "\n",
    "from sklearn.datasets import make_classification\n",
    "from sklearn.model_selection import train_test_split\n",
    "import pandas as pd\n",
    "\n",
    "# Generamos un data set de 500 filas y 10 características\n",
    "X, y = make_classification(\n",
    "    n_samples=500,   # Número de filas\n",
    "    n_features=10,   # Número de características\n",
    "    n_informative=8, # Características relevantes\n",
    "    n_redundant=2,   # Características redundantes\n",
    "    random_state=42\n",
    ")\n",
    "\n",
    "# Dividir en entrenamiento y prueba\n",
    "X_train, X_test, y_train, y_test = train_test_split(X, y, test_size=0.2, random_state=42)"
   ]
  },
  {
   "cell_type": "code",
   "execution_count": 2,
   "metadata": {},
   "outputs": [
    {
     "data": {
      "text/plain": [
       "(array([[ 1.82325985, -0.2912727 ,  0.43310216,  2.25296944, -1.54561288,\n",
       "         -2.03217427, -0.314744  ,  0.29454587, -0.47873915,  2.38427661],\n",
       "        [ 1.99534595, -1.35912957, -0.38404344, -1.661742  ,  4.17523872,\n",
       "         -3.29599262, -2.06171655,  2.78381625,  1.7601656 ,  0.53338158],\n",
       "        [ 1.40151215, -2.04928361, -1.47135028,  3.71183278, -0.51438725,\n",
       "          0.94192995, -2.5435297 ,  1.66618656, -3.14315027,  0.93308393],\n",
       "        [ 0.10828665, -0.80542805, -1.18899805, -0.44444324, -0.91517226,\n",
       "         -0.52312016,  0.11663634,  2.4248636 , -0.83505002, -0.44668768],\n",
       "        [-1.73758971, -3.81249015, -4.78215553,  6.05777859, -0.8998485 ,\n",
       "         -2.35360688, -2.76674578,  1.49359229, -1.97799393, -0.3088274 ]]),\n",
       " array([1, 1, 0, 1, 1]))"
      ]
     },
     "execution_count": 2,
     "metadata": {},
     "output_type": "execute_result"
    }
   ],
   "source": [
    "X_train[:5], y_train[:5]"
   ]
  },
  {
   "cell_type": "code",
   "execution_count": 19,
   "metadata": {},
   "outputs": [
    {
     "ename": "ModuleNotFoundError",
     "evalue": "No module named 'hpbandster'",
     "output_type": "error",
     "traceback": [
      "\u001b[1;31m---------------------------------------------------------------------------\u001b[0m",
      "\u001b[1;31mModuleNotFoundError\u001b[0m                       Traceback (most recent call last)",
      "Cell \u001b[1;32mIn[19], line 1\u001b[0m\n\u001b[1;32m----> 1\u001b[0m \u001b[38;5;28;01mimport\u001b[39;00m \u001b[38;5;21;01mhpbandster\u001b[39;00m\n\u001b[0;32m      2\u001b[0m \u001b[38;5;28;01mimport\u001b[39;00m \u001b[38;5;21;01mConfigSpace\u001b[39;00m\n\u001b[0;32m      3\u001b[0m \u001b[38;5;28mprint\u001b[39m(\u001b[38;5;124m\"\u001b[39m\u001b[38;5;124mConfigSpace y HpBandSter instalados correctamente\u001b[39m\u001b[38;5;124m\"\u001b[39m)\n",
      "\u001b[1;31mModuleNotFoundError\u001b[0m: No module named 'hpbandster'"
     ]
    }
   ],
   "source": [
    "import hpbandster\n",
    "import ConfigSpace\n",
    "print(\"ConfigSpace y HpBandSter instalados correctamente\")"
   ]
  },
  {
   "cell_type": "code",
   "execution_count": 3,
   "metadata": {},
   "outputs": [],
   "source": [
    "# Configuración BOHB para prueba rápida\n",
    "\n",
    "from ray import tune\n",
    "from ray.tune.schedulers import HyperBandForBOHB\n",
    "from ray.tune.search.bohb import TuneBOHB\n",
    "from ray.tune.integration.keras import TuneReportCallback\n",
    "import tensorflow as tf\n",
    "\n",
    "# Definir espacio de búsqueda reducido\n",
    "search_space = {\n",
    "    \"num_layers\": tune.randint(1, 4),  # Reducido a 1-2 capas\n",
    "    \"units_per_layer\": tune.qrandint(32, 64, 16),  # Reducido a 32-64 neuronas\n",
    "    \"learning_rate\": tune.loguniform(1e-3, 1e-2),  # Tasa de aprendizaje más restringida\n",
    "    \"batch_size\": tune.choice([16, 32]),  # Solo dos opciones\n",
    "    \"dropout\": tune.uniform(0.1, 0.3),  # Dropout entre 10%-30%\n",
    "    \"activation\": tune.choice([\"relu\", \"tanh\"])  # Dos funciones de activación\n",
    "}\n",
    "\n",
    "# Crear y entrenar modelo\n",
    "def train_model(config):\n",
    "    model = tf.keras.Sequential()\n",
    "    model.add(tf.keras.layers.InputLayer(input_shape=(10,)))\n",
    "    \n",
    "    # Agregar capas según el config\n",
    "    for _ in range(config[\"num_layers\"]):\n",
    "        model.add(tf.keras.layers.Dense(\n",
    "            units=config[\"units_per_layer\"],\n",
    "            activation=config[\"activation\"]\n",
    "        ))\n",
    "    model.add(tf.keras.layers.Dropout(config[\"dropout\"]))\n",
    "    model.add(tf.keras.layers.Dense(1, activation=\"sigmoid\"))  # Clasificación binaria\n",
    "\n",
    "    # Compilar modelo\n",
    "    model.compile(\n",
    "        optimizer=tf.keras.optimizers.Adam(learning_rate=config[\"learning_rate\"]),\n",
    "        loss=\"binary_crossentropy\",\n",
    "        metrics=[\"accuracy\"]\n",
    "    )\n",
    "\n",
    "    # Entrenar modelo\n",
    "    model.fit(\n",
    "        X_train, y_train,\n",
    "        validation_data=(X_test, y_test),\n",
    "        batch_size=config[\"batch_size\"],\n",
    "        epochs=10,  # Reducido para prueba rápida\n",
    "        verbose=0,\n",
    "        callbacks=[TuneReportCallback({\"val_accuracy\": \"val_accuracy\"})]\n",
    "    )"
   ]
  },
  {
   "cell_type": "code",
   "execution_count": 12,
   "metadata": {},
   "outputs": [
    {
     "ename": "AssertionError",
     "evalue": "HpBandSter must be installed!\n            You can install HpBandSter with the command:\n            `pip install hpbandster ConfigSpace`.",
     "output_type": "error",
     "traceback": [
      "\u001b[1;31m---------------------------------------------------------------------------\u001b[0m",
      "\u001b[1;31mAssertionError\u001b[0m                            Traceback (most recent call last)",
      "Cell \u001b[1;32mIn[12], line 3\u001b[0m\n\u001b[0;32m      1\u001b[0m \u001b[38;5;66;03m# Configurar BOHB con un número limitado de pruebas\u001b[39;00m\n\u001b[1;32m----> 3\u001b[0m bohb_search \u001b[38;5;241m=\u001b[39m \u001b[43mTuneBOHB\u001b[49m\u001b[43m(\u001b[49m\u001b[43m)\u001b[49m\n\u001b[0;32m      4\u001b[0m bohb_scheduler \u001b[38;5;241m=\u001b[39m HyperBandForBOHB(max_t\u001b[38;5;241m=\u001b[39m\u001b[38;5;241m10\u001b[39m)\n\u001b[0;32m      6\u001b[0m tune\u001b[38;5;241m.\u001b[39mrun(\n\u001b[0;32m      7\u001b[0m     train_model,\n\u001b[0;32m      8\u001b[0m     config\u001b[38;5;241m=\u001b[39msearch_space,\n\u001b[1;32m   (...)\u001b[0m\n\u001b[0;32m     13\u001b[0m     search_alg\u001b[38;5;241m=\u001b[39mbohb_search\n\u001b[0;32m     14\u001b[0m )\n",
      "File \u001b[1;32m~\\AppData\\Local\\Packages\\PythonSoftwareFoundation.Python.3.12_qbz5n2kfra8p0\\LocalCache\\local-packages\\Python312\\site-packages\\ray\\tune\\search\\bohb\\bohb_search.py:137\u001b[0m, in \u001b[0;36mTuneBOHB.__init__\u001b[1;34m(self, space, bohb_config, metric, mode, points_to_evaluate, seed, max_concurrent)\u001b[0m\n\u001b[0;32m    126\u001b[0m \u001b[38;5;28;01mdef\u001b[39;00m \u001b[38;5;21m__init__\u001b[39m(\n\u001b[0;32m    127\u001b[0m     \u001b[38;5;28mself\u001b[39m,\n\u001b[0;32m    128\u001b[0m     space: Optional[Union[Dict, \u001b[38;5;124m\"\u001b[39m\u001b[38;5;124mConfigSpace.ConfigurationSpace\u001b[39m\u001b[38;5;124m\"\u001b[39m]] \u001b[38;5;241m=\u001b[39m \u001b[38;5;28;01mNone\u001b[39;00m,\n\u001b[1;32m   (...)\u001b[0m\n\u001b[0;32m    134\u001b[0m     max_concurrent: \u001b[38;5;28mint\u001b[39m \u001b[38;5;241m=\u001b[39m \u001b[38;5;241m0\u001b[39m,\n\u001b[0;32m    135\u001b[0m ):\n\u001b[0;32m    136\u001b[0m     \u001b[38;5;28;01massert\u001b[39;00m (\n\u001b[1;32m--> 137\u001b[0m         BOHB \u001b[38;5;129;01mis\u001b[39;00m \u001b[38;5;129;01mnot\u001b[39;00m \u001b[38;5;28;01mNone\u001b[39;00m\n\u001b[0;32m    138\u001b[0m     ), \u001b[38;5;124m\"\"\"\u001b[39m\u001b[38;5;124mHpBandSter must be installed!\u001b[39m\n\u001b[0;32m    139\u001b[0m \u001b[38;5;124m        You can install HpBandSter with the command:\u001b[39m\n\u001b[0;32m    140\u001b[0m \u001b[38;5;124m        `pip install hpbandster ConfigSpace`.\u001b[39m\u001b[38;5;124m\"\"\"\u001b[39m\n\u001b[0;32m    141\u001b[0m     \u001b[38;5;28;01mif\u001b[39;00m mode:\n\u001b[0;32m    142\u001b[0m         \u001b[38;5;28;01massert\u001b[39;00m mode \u001b[38;5;129;01min\u001b[39;00m [\u001b[38;5;124m\"\u001b[39m\u001b[38;5;124mmin\u001b[39m\u001b[38;5;124m\"\u001b[39m, \u001b[38;5;124m\"\u001b[39m\u001b[38;5;124mmax\u001b[39m\u001b[38;5;124m\"\u001b[39m], \u001b[38;5;124m\"\u001b[39m\u001b[38;5;124m`mode` must be \u001b[39m\u001b[38;5;124m'\u001b[39m\u001b[38;5;124mmin\u001b[39m\u001b[38;5;124m'\u001b[39m\u001b[38;5;124m or \u001b[39m\u001b[38;5;124m'\u001b[39m\u001b[38;5;124mmax\u001b[39m\u001b[38;5;124m'\u001b[39m\u001b[38;5;124m.\u001b[39m\u001b[38;5;124m\"\u001b[39m\n",
      "\u001b[1;31mAssertionError\u001b[0m: HpBandSter must be installed!\n            You can install HpBandSter with the command:\n            `pip install hpbandster ConfigSpace`."
     ]
    }
   ],
   "source": [
    "# Configurar BOHB con un número limitado de pruebas\n",
    "\n",
    "bohb_search = TuneBOHB()\n",
    "bohb_scheduler = HyperBandForBOHB(max_t=10)\n",
    "\n",
    "tune.run(\n",
    "    train_model,\n",
    "    config=search_space,\n",
    "    metric=\"val_accuracy\",\n",
    "    mode=\"max\",\n",
    "    num_samples=10,  # Realizar solo 10 pruebas\n",
    "    scheduler=bohb_scheduler,\n",
    "    search_alg=bohb_search\n",
    ")"
   ]
  }
 ],
 "metadata": {
  "kernelspec": {
   "display_name": "Python 3",
   "language": "python",
   "name": "python3"
  },
  "language_info": {
   "codemirror_mode": {
    "name": "ipython",
    "version": 3
   },
   "file_extension": ".py",
   "mimetype": "text/x-python",
   "name": "python",
   "nbconvert_exporter": "python",
   "pygments_lexer": "ipython3",
   "version": "3.12.8"
  }
 },
 "nbformat": 4,
 "nbformat_minor": 2
}
