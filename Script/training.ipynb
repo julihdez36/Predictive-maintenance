{
 "cells": [
  {
   "cell_type": "markdown",
   "metadata": {},
   "source": [
    "## Prueba BOHB"
   ]
  },
  {
   "cell_type": "code",
   "execution_count": 3,
   "metadata": {},
   "outputs": [],
   "source": [
    "import ConfigSpace as CS\n",
    "from hpbandster.optimizers import BOHB\n",
    "from hpbandster.core.worker import Worker\n",
    "import tensorflow as tf\n",
    "from sklearn.datasets import make_classification\n",
    "from sklearn.model_selection import train_test_split\n",
    "\n",
    "# Crear el conjunto de datos sintéticos\n",
    "# Optamos por un dataset más pequeño para pruebas locales\n",
    "X, y = make_classification(\n",
    "    n_samples=200,       # Número de filas reducido para pruebas rápidas\n",
    "    n_features=8,       # Número de características\n",
    "    n_informative=6,     # Características relevantes\n",
    "    n_redundant=1,       # Características redundantes\n",
    "    random_state=42\n",
    ")\n",
    "X_train, X_test, y_train, y_test = train_test_split(X, y, test_size=0.2, random_state=42)"
   ]
  },
  {
   "cell_type": "code",
   "execution_count": 4,
   "metadata": {},
   "outputs": [
    {
     "data": {
      "text/plain": [
       "(array([[-0.35082615, -0.38293409,  3.40291801,  0.87050567,  0.03367624,\n",
       "         -0.29349037,  0.64724386,  1.1965715 ],\n",
       "        [-0.95648548, -0.06798572, -1.76727721, -0.75753356, -4.02363839,\n",
       "         -1.13013595, -2.43110594,  0.39467153],\n",
       "        [-1.0082233 , -0.07168075, -0.89797685, -1.19856896,  0.57825734,\n",
       "         -1.78948055, -0.68311283,  0.01468819],\n",
       "        [ 2.65612306, -2.85691889, -3.52064547, -2.37511398,  0.65384799,\n",
       "         -0.15634259, -0.7475921 , -0.81819888],\n",
       "        [ 0.23278807, -2.20233233, -1.37296173,  0.56468552, -4.73232921,\n",
       "          0.90961233, -0.72801651,  1.88458631]]),\n",
       " array([0, 0, 0, 1, 1]))"
      ]
     },
     "execution_count": 4,
     "metadata": {},
     "output_type": "execute_result"
    }
   ],
   "source": [
    "X_train[:5], y_train[:5]"
   ]
  },
  {
   "cell_type": "code",
   "execution_count": 5,
   "metadata": {},
   "outputs": [
    {
     "name": "stderr",
     "output_type": "stream",
     "text": [
      "C:\\Users\\Julian\\AppData\\Local\\Temp\\ipykernel_9816\\2461443934.py:5: DeprecationWarning: Please use `space.add(hyperparameter)`\n",
      "  config_space.add_hyperparameter(CS.UniformIntegerHyperparameter(\"num_layers\", lower=1, upper=2))  # Reducimos las capas a 1 o 2\n",
      "C:\\Users\\Julian\\AppData\\Local\\Temp\\ipykernel_9816\\2461443934.py:6: DeprecationWarning: Please use `space.add(hyperparameter)`\n",
      "  config_space.add_hyperparameter(CS.UniformIntegerHyperparameter(\"units_per_layer\", lower=5, upper=10))  # Menos neuronas por capa\n",
      "C:\\Users\\Julian\\AppData\\Local\\Temp\\ipykernel_9816\\2461443934.py:7: DeprecationWarning: Please use `space.add(hyperparameter)`\n",
      "  config_space.add_hyperparameter(CS.UniformFloatHyperparameter(\"learning_rate\", lower=1e-3, upper=5e-3, log=True))\n",
      "C:\\Users\\Julian\\AppData\\Local\\Temp\\ipykernel_9816\\2461443934.py:8: DeprecationWarning: Please use `space.add(hyperparameter)`\n",
      "  config_space.add_hyperparameter(CS.CategoricalHyperparameter(\"batch_size\", [16, 32]))  # Dos opciones de batch size\n",
      "C:\\Users\\Julian\\AppData\\Local\\Temp\\ipykernel_9816\\2461443934.py:9: DeprecationWarning: Please use `space.add(hyperparameter)`\n",
      "  config_space.add_hyperparameter(CS.UniformFloatHyperparameter(\"dropout\", lower=0.1, upper=0.2))  # Dropout más pequeño\n",
      "C:\\Users\\Julian\\AppData\\Local\\Temp\\ipykernel_9816\\2461443934.py:10: DeprecationWarning: Please use `space.add(hyperparameter)`\n",
      "  config_space.add_hyperparameter(CS.CategoricalHyperparameter(\"activation\", [\"relu\"]))  # Solo 'relu' como activación\n"
     ]
    },
    {
     "data": {
      "text/plain": [
       "CategoricalHyperparameter(name='activation', default_value='relu', meta=None, size=1, choices=('relu',), weights=None, _contains_sequence_as_value=False)"
      ]
     },
     "execution_count": 5,
     "metadata": {},
     "output_type": "execute_result"
    }
   ],
   "source": [
    "# Definir el espacio de búsqueda con ConfigSpace\n",
    "# Reducimos los rangos para minimizar el número de configuraciones a explorar\n",
    "\n",
    "config_space = CS.ConfigurationSpace()\n",
    "config_space.add_hyperparameter(CS.UniformIntegerHyperparameter(\"num_layers\", lower=1, upper=2))  # Reducimos las capas a 1 o 2\n",
    "config_space.add_hyperparameter(CS.UniformIntegerHyperparameter(\"units_per_layer\", lower=5, upper=10))  # Menos neuronas por capa\n",
    "config_space.add_hyperparameter(CS.UniformFloatHyperparameter(\"learning_rate\", lower=1e-3, upper=5e-3, log=True))\n",
    "config_space.add_hyperparameter(CS.CategoricalHyperparameter(\"batch_size\", [16, 32]))  # Dos opciones de batch size\n",
    "config_space.add_hyperparameter(CS.UniformFloatHyperparameter(\"dropout\", lower=0.1, upper=0.2))  # Dropout más pequeño\n",
    "config_space.add_hyperparameter(CS.CategoricalHyperparameter(\"activation\", [\"relu\"]))  # Solo 'relu' como activación\n"
   ]
  },
  {
   "cell_type": "code",
   "execution_count": 6,
   "metadata": {},
   "outputs": [],
   "source": [
    "# Crear una clase Worker para entrenar el modelo\n",
    "class KerasWorker(Worker):\n",
    "    def __init__(self, **kwargs):\n",
    "        super().__init__(**kwargs)\n",
    "\n",
    "    def compute(self, config, budget, **kwargs):\n",
    "        # Crear el modelo secuencial con los hiperparámetros del espacio de búsqueda\n",
    "        model = tf.keras.Sequential()\n",
    "        for _ in range(config[\"num_layers\"]):\n",
    "            model.add(tf.keras.layers.Dense(config[\"units_per_layer\"], activation=config[\"activation\"]))\n",
    "            model.add(tf.keras.layers.Dropout(config[\"dropout\"]))\n",
    "        model.add(tf.keras.layers.Dense(1, activation=\"sigmoid\"))\n",
    "        model.compile(\n",
    "            optimizer=tf.keras.optimizers.Adam(learning_rate=config[\"learning_rate\"]),\n",
    "            loss=\"binary_crossentropy\",\n",
    "            metrics=[\"accuracy\"]\n",
    "        )\n",
    "        \n",
    "        # Agregar early stopping para detener entrenamientos poco prometedores\n",
    "        early_stopping = tf.keras.callbacks.EarlyStopping(monitor=\"val_loss\", patience=2)\n",
    "\n",
    "        # Entrenar el modelo\n",
    "        history = model.fit(\n",
    "            X_train, y_train,\n",
    "            validation_data=(X_test, y_test),\n",
    "            epochs=int(budget),  # El presupuesto actúa como número de épocas\n",
    "            batch_size=config[\"batch_size\"],\n",
    "            callbacks=[early_stopping],  # Detener temprano si no mejora\n",
    "            verbose=1  # Con salida en consola optimización\n",
    "        )\n",
    "        \n",
    "        # Retornar la última precisión de validación\n",
    "        val_accuracy = history.history[\"val_accuracy\"][-1]\n",
    "        return {\"loss\": 1 - val_accuracy, \"info\": {\"val_accuracy\": val_accuracy}}"
   ]
  },
  {
   "cell_type": "code",
   "execution_count": null,
   "metadata": {},
   "outputs": [],
   "source": [
    "# Configurar BOHB para optimización\n",
    "# Reducimos el presupuesto máximo y el número de iteraciones para tiempos más rápidos\n",
    "\n",
    "bohb = BOHB(\n",
    "    configspace=config_space,\n",
    "    run_id=\"keras_bohb_test\",\n",
    "    min_budget=1,  # Presupuesto mínimo en épocas\n",
    "    max_budget=5   # Presupuesto máximo reducido para ahorrar tiempo\n",
    ")"
   ]
  },
  {
   "cell_type": "code",
   "execution_count": null,
   "metadata": {},
   "outputs": [],
   "source": [
    "# Ejecutar la optimización\n",
    "result = bohb.run(\n",
    "    n_iterations=5,  # Menos iteraciones para reducir tiempo de ejecución\n",
    "    min_n_workers=1  # Se ejecuta de forma secuencial en una máquina local\n",
    ")\n",
    "\n",
    "# Obtener la mejor configuración encontrada\n",
    "best_config = result.get_id2config_mapping()[result.get_incumbent_id()][\"config\"]\n",
    "print(\"Best configuration:\", best_config)\n",
    "\n",
    "# Finalizar BOHB\n",
    "bohb.shutdown()\n"
   ]
  }
 ],
 "metadata": {
  "kernelspec": {
   "display_name": "Python 3",
   "language": "python",
   "name": "python3"
  },
  "language_info": {
   "codemirror_mode": {
    "name": "ipython",
    "version": 3
   },
   "file_extension": ".py",
   "mimetype": "text/x-python",
   "name": "python",
   "nbconvert_exporter": "python",
   "pygments_lexer": "ipython3",
   "version": "3.12.8"
  }
 },
 "nbformat": 4,
 "nbformat_minor": 2
}
